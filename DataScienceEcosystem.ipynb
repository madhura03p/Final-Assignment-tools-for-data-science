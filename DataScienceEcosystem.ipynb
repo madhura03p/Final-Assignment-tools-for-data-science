{
 "cells": [
  {
   "cell_type": "markdown",
   "id": "ef0164e4-9baa-4de8-a434-fb5713e0fd6d",
   "metadata": {},
   "source": [
    "# Data Science Tools and Ecosystem"
   ]
  },
  {
   "cell_type": "markdown",
   "id": "49c8e973-2a84-4359-b99c-26b5de37eec9",
   "metadata": {},
   "source": [
    "In this notebook, Data Science Tools and Ecosystem are summarized."
   ]
  },
  {
   "cell_type": "markdown",
   "id": "cf19d864-fd7d-4439-8455-d31867cc706f",
   "metadata": {},
   "source": [
    "**Objectives:**\n",
    "- Create ordered and unordered lists in markdown\n",
    "- Create a table in markdown\n",
    "- Show basic arithemetic calcualtions in python\n",
    "- Create tests of deffierent styles in markdown"
   ]
  },
  {
   "cell_type": "markdown",
   "id": "4d11d3cd-e596-4038-8e16-f403a72efd9a",
   "metadata": {},
   "source": [
    "Some of the popular languages that Data Scientists use are:\n",
    "1. R\n",
    "2. Python\n",
    "3. SQL\n",
    "4. JavaScript"
   ]
  },
  {
   "cell_type": "markdown",
   "id": "07988d52-7c3e-4a43-a23d-2c0d8b9b054e",
   "metadata": {},
   "source": [
    "Some of the commonly used libraries used by Data Scientists include:\n",
    "1. Pandas\n",
    "2. NumPy\n",
    "3. Pytorch\n",
    "4. TensorFLow"
   ]
  },
  {
   "cell_type": "markdown",
   "id": "b36631b8-e04f-42b0-8cff-a3fa955d4226",
   "metadata": {},
   "source": [
    "| Data Science Tools |\n",
    "|--------------------|\n",
    "| Apache Hadoop |\n",
    "| RStudio |\n",
    "| Jupyter Lab |"
   ]
  },
  {
   "cell_type": "markdown",
   "id": "39c1e427-c170-4218-8226-e0492f0af279",
   "metadata": {},
   "source": [
    "### Below are a few examples of evaluating arithmetic expressions in Python"
   ]
  },
  {
   "cell_type": "code",
   "execution_count": 2,
   "id": "87b93d0a-7130-45d0-b9c5-abd1239b482d",
   "metadata": {},
   "outputs": [
    {
     "data": {
      "text/plain": [
       "17"
      ]
     },
     "execution_count": 2,
     "metadata": {},
     "output_type": "execute_result"
    }
   ],
   "source": [
    "#This a simple arithmetic expression to mutiply then add integers\n",
    "(3*4)+5"
   ]
  },
  {
   "cell_type": "code",
   "execution_count": 3,
   "id": "c3c6f84e-571f-4bb2-b8ee-46660f9c507a",
   "metadata": {},
   "outputs": [
    {
     "data": {
      "text/plain": [
       "3.3333333333333335"
      ]
     },
     "execution_count": 3,
     "metadata": {},
     "output_type": "execute_result"
    }
   ],
   "source": [
    "#This will convert 200 minutes to hours by diving by 60\n",
    "200/60"
   ]
  },
  {
   "cell_type": "markdown",
   "id": "5269f02a-bc7c-4c6f-97a1-db296b8f3983",
   "metadata": {},
   "source": [
    "## Author\n",
    "Madhura Pande"
   ]
  },
  {
   "cell_type": "code",
   "execution_count": null,
   "id": "5d06bc6f-5fa7-48fd-a72f-3cd883ae2208",
   "metadata": {},
   "outputs": [],
   "source": []
  }
 ],
 "metadata": {
  "kernelspec": {
   "display_name": "Python 3 (ipykernel)",
   "language": "python",
   "name": "python3"
  },
  "language_info": {
   "codemirror_mode": {
    "name": "ipython",
    "version": 3
   },
   "file_extension": ".py",
   "mimetype": "text/x-python",
   "name": "python",
   "nbconvert_exporter": "python",
   "pygments_lexer": "ipython3",
   "version": "3.12.0"
  }
 },
 "nbformat": 4,
 "nbformat_minor": 5
}
